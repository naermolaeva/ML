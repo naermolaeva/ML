{
 "cells": [
  {
   "cell_type": "markdown",
   "metadata": {},
   "source": [
    "# Assignment 5\n",
    "\n",
    "Explore embeddings and CNN\n",
    "\n",
    "Using tweeter dataset ( https://www.kaggle.com/utathya/sentiment-analysis-of-imdb-reviews/data) and already existing splitting on train/test sets, develop a model for sentiment analysis.  \n",
    "Your quality metric is crossentropy (`sklearn.metrics.log_loss`, `torch.nn.CrossEntropy`)  \n",
    "\n",
    "Your model should be based on CNN and written in pytorch `torch.nn.Conv1d`.\n",
    "\n",
    "Explore 3 ways, which of them has better perfomance on test set?:\n",
    "1. Using pretrained word embeddings with frozen weights. `torch.nn.Embedding.from_pretrained(embed_matrix, frozen=True)`.\n",
    "You can download any pretrained embeddings you like.\n",
    "2. Train embeddings yourself, initializing from pretrained weights. `torch.nn.Embedding.from_pretrained(embed_matrix, frozen=False)`\n",
    "3. Train embeddings yourself with random initialization `torch.nn.init.uniform_(nn.Embeddings.weights)`\n",
    "\n",
    "Experiment with model arhitecture (as bonus):\n",
    "1. activation functions RELU, ELU, etc `torch.nn.functional.relu, torch.nn.functional.elu`  \n",
    "1. Stack layers\n",
    "1. max or average pooling (`torch.nn.functional.max_pool1d, torch.nn.functional.avg_pool1d`)\n",
    "1. Dropout\n",
    "\n",
    "\n",
    "Other requirements:\n",
    "1. Your training routine should use any learning scheduler (torch.nn.optim.lr_scheduler).  \n",
    "Plot current learning rate against number of epochs, e.g. `tt.optim.Adam.param_groups[0]['lr']`.  \n",
    "\n",
    "1. Your training routine should use early stopping on validation dataset\n",
    "Use hold out validation scheme in your experiments.\n",
    "\n",
    "1. You should use torchtext for parsing \n",
    "\n",
    "**Note**:\n",
    "This assignment has no baseline. Instead, **validation curves** for explored architectures are expected.  \n",
    "Validation curve is plot of model test score against model hyperparameter value.  \n",
    "example (https://scikit-learn.org/stable/auto_examples/model_selection/plot_validation_curve.html) . \n",
    "Though, using `sklearn.model_selection.validation_curve` is not necessary.  \n",
    "\n",
    "\n",
    "\n",
    "\n"
   ]
  },
  {
   "cell_type": "code",
   "execution_count": 1,
   "metadata": {},
   "outputs": [],
   "source": [
    "import pandas as pd\n",
    "import numpy as np\n",
    "from sklearn.externals import joblib\n",
    "import nltk\n",
    "import gensim\n",
    "import spacy\n",
    "\n",
    "from nltk.corpus import stopwords\n",
    "from nltk.tokenize import TweetTokenizer\n",
    "from nltk.stem import SnowballStemmer\n",
    "from string import punctuation\n",
    "\n",
    "from sklearn import metrics\n",
    "\n",
    "import torch as tt\n",
    "import torch.nn as nn\n",
    "import torch.nn.functional as F\n",
    "import torch.optim as optim\n",
    "\n",
    "from torchtext.data import Field, LabelField, BucketIterator, TabularDataset, Iterator\n",
    "\n",
    "\n",
    "SEED = 42\n",
    "np.random.seed(SEED)\n",
    "\n",
    "\n",
    "stop_words = set(stopwords.words('english'))\n",
    "tweet_tokenizer = TweetTokenizer()\n",
    "snowball_stemmer = SnowballStemmer('english')"
   ]
  },
  {
   "cell_type": "code",
   "execution_count": 2,
   "metadata": {},
   "outputs": [],
   "source": [
    "import warnings\n",
    "warnings.filterwarnings('ignore')"
   ]
  },
  {
   "cell_type": "code",
   "execution_count": 3,
   "metadata": {},
   "outputs": [],
   "source": [
    "data = pd.read_csv('imdb_master.csv', encoding='latin-1', index_col = 0)\n",
    "\n",
    "train = data[data.type.isin(['train'])]\n",
    "test = data[data.type.isin(['test'])]\n",
    "\n",
    "# imdb_train = df_master[[\"review\", \"label\"]][df_master.type.isin(['train'])].reset_index(drop=True)\n",
    "# imdb_test = df_master[[\"review\", \"label\"]][df_master.type.isin(['test'])].reset_index(drop=True)"
   ]
  },
  {
   "cell_type": "code",
   "execution_count": 4,
   "metadata": {},
   "outputs": [
    {
     "data": {
      "text/html": [
       "<div>\n",
       "<style scoped>\n",
       "    .dataframe tbody tr th:only-of-type {\n",
       "        vertical-align: middle;\n",
       "    }\n",
       "\n",
       "    .dataframe tbody tr th {\n",
       "        vertical-align: top;\n",
       "    }\n",
       "\n",
       "    .dataframe thead th {\n",
       "        text-align: right;\n",
       "    }\n",
       "</style>\n",
       "<table border=\"1\" class=\"dataframe\">\n",
       "  <thead>\n",
       "    <tr style=\"text-align: right;\">\n",
       "      <th></th>\n",
       "      <th>type</th>\n",
       "      <th>review</th>\n",
       "      <th>label</th>\n",
       "      <th>file</th>\n",
       "    </tr>\n",
       "  </thead>\n",
       "  <tbody>\n",
       "    <tr>\n",
       "      <th>25000</th>\n",
       "      <td>train</td>\n",
       "      <td>Story of a man who has unnatural feelings for ...</td>\n",
       "      <td>neg</td>\n",
       "      <td>0_3.txt</td>\n",
       "    </tr>\n",
       "    <tr>\n",
       "      <th>25001</th>\n",
       "      <td>train</td>\n",
       "      <td>Airport '77 starts as a brand new luxury 747 p...</td>\n",
       "      <td>neg</td>\n",
       "      <td>10000_4.txt</td>\n",
       "    </tr>\n",
       "    <tr>\n",
       "      <th>25002</th>\n",
       "      <td>train</td>\n",
       "      <td>This film lacked something I couldn't put my f...</td>\n",
       "      <td>neg</td>\n",
       "      <td>10001_4.txt</td>\n",
       "    </tr>\n",
       "    <tr>\n",
       "      <th>25003</th>\n",
       "      <td>train</td>\n",
       "      <td>Sorry everyone,,, I know this is supposed to b...</td>\n",
       "      <td>neg</td>\n",
       "      <td>10002_1.txt</td>\n",
       "    </tr>\n",
       "    <tr>\n",
       "      <th>25004</th>\n",
       "      <td>train</td>\n",
       "      <td>When I was little my parents took me along to ...</td>\n",
       "      <td>neg</td>\n",
       "      <td>10003_1.txt</td>\n",
       "    </tr>\n",
       "  </tbody>\n",
       "</table>\n",
       "</div>"
      ],
      "text/plain": [
       "        type                                             review label  \\\n",
       "25000  train  Story of a man who has unnatural feelings for ...   neg   \n",
       "25001  train  Airport '77 starts as a brand new luxury 747 p...   neg   \n",
       "25002  train  This film lacked something I couldn't put my f...   neg   \n",
       "25003  train  Sorry everyone,,, I know this is supposed to b...   neg   \n",
       "25004  train  When I was little my parents took me along to ...   neg   \n",
       "\n",
       "              file  \n",
       "25000      0_3.txt  \n",
       "25001  10000_4.txt  \n",
       "25002  10001_4.txt  \n",
       "25003  10002_1.txt  \n",
       "25004  10003_1.txt  "
      ]
     },
     "execution_count": 4,
     "metadata": {},
     "output_type": "execute_result"
    }
   ],
   "source": [
    "train.head()"
   ]
  },
  {
   "cell_type": "code",
   "execution_count": 5,
   "metadata": {},
   "outputs": [
    {
     "data": {
      "text/html": [
       "<div>\n",
       "<style scoped>\n",
       "    .dataframe tbody tr th:only-of-type {\n",
       "        vertical-align: middle;\n",
       "    }\n",
       "\n",
       "    .dataframe tbody tr th {\n",
       "        vertical-align: top;\n",
       "    }\n",
       "\n",
       "    .dataframe thead th {\n",
       "        text-align: right;\n",
       "    }\n",
       "</style>\n",
       "<table border=\"1\" class=\"dataframe\">\n",
       "  <thead>\n",
       "    <tr style=\"text-align: right;\">\n",
       "      <th></th>\n",
       "      <th>type</th>\n",
       "      <th>review</th>\n",
       "      <th>label</th>\n",
       "      <th>file</th>\n",
       "    </tr>\n",
       "  </thead>\n",
       "  <tbody>\n",
       "    <tr>\n",
       "      <th>0</th>\n",
       "      <td>test</td>\n",
       "      <td>Once again Mr. Costner has dragged out a movie...</td>\n",
       "      <td>neg</td>\n",
       "      <td>0_2.txt</td>\n",
       "    </tr>\n",
       "    <tr>\n",
       "      <th>1</th>\n",
       "      <td>test</td>\n",
       "      <td>This is an example of why the majority of acti...</td>\n",
       "      <td>neg</td>\n",
       "      <td>10000_4.txt</td>\n",
       "    </tr>\n",
       "    <tr>\n",
       "      <th>2</th>\n",
       "      <td>test</td>\n",
       "      <td>First of all I hate those moronic rappers, who...</td>\n",
       "      <td>neg</td>\n",
       "      <td>10001_1.txt</td>\n",
       "    </tr>\n",
       "    <tr>\n",
       "      <th>3</th>\n",
       "      <td>test</td>\n",
       "      <td>Not even the Beatles could write songs everyon...</td>\n",
       "      <td>neg</td>\n",
       "      <td>10002_3.txt</td>\n",
       "    </tr>\n",
       "    <tr>\n",
       "      <th>4</th>\n",
       "      <td>test</td>\n",
       "      <td>Brass pictures (movies is not a fitting word f...</td>\n",
       "      <td>neg</td>\n",
       "      <td>10003_3.txt</td>\n",
       "    </tr>\n",
       "  </tbody>\n",
       "</table>\n",
       "</div>"
      ],
      "text/plain": [
       "   type                                             review label         file\n",
       "0  test  Once again Mr. Costner has dragged out a movie...   neg      0_2.txt\n",
       "1  test  This is an example of why the majority of acti...   neg  10000_4.txt\n",
       "2  test  First of all I hate those moronic rappers, who...   neg  10001_1.txt\n",
       "3  test  Not even the Beatles could write songs everyon...   neg  10002_3.txt\n",
       "4  test  Brass pictures (movies is not a fitting word f...   neg  10003_3.txt"
      ]
     },
     "execution_count": 5,
     "metadata": {},
     "output_type": "execute_result"
    }
   ],
   "source": [
    "test.head()"
   ]
  },
  {
   "cell_type": "code",
   "execution_count": 6,
   "metadata": {},
   "outputs": [],
   "source": [
    "def tokenizer(text):\n",
    "    tokens = tweet_tokenizer.tokenize(snowball_stemmer.stem(text))\n",
    "    result = [word for word in tokens if word != ' '  \\\n",
    "              and word.strip() not in punctuation + '«»—…“”№–']\n",
    "    \n",
    "    return result"
   ]
  },
  {
   "cell_type": "code",
   "execution_count": 7,
   "metadata": {},
   "outputs": [
    {
     "data": {
      "text/plain": [
       "{'neg', 'pos', 'unsup'}"
      ]
     },
     "execution_count": 7,
     "metadata": {},
     "output_type": "execute_result"
    }
   ],
   "source": [
    "set(train['label'].values)"
   ]
  },
  {
   "cell_type": "code",
   "execution_count": 8,
   "metadata": {},
   "outputs": [
    {
     "data": {
      "text/plain": [
       "{'neg', 'pos'}"
      ]
     },
     "execution_count": 8,
     "metadata": {},
     "output_type": "execute_result"
    }
   ],
   "source": [
    "set(test['label'].values)"
   ]
  },
  {
   "cell_type": "markdown",
   "metadata": {},
   "source": [
    "Удалим метку `unsup` (т.к. она отсутствует в тестовой выборке):"
   ]
  },
  {
   "cell_type": "code",
   "execution_count": 9,
   "metadata": {},
   "outputs": [],
   "source": [
    "train = train[train['label'] != 'unsup']"
   ]
  },
  {
   "cell_type": "code",
   "execution_count": 10,
   "metadata": {},
   "outputs": [],
   "source": [
    "train.to_csv('train.csv', encoding='utf-8')\n",
    "test.to_csv('test.csv', encoding='utf-8')"
   ]
  },
  {
   "cell_type": "markdown",
   "metadata": {},
   "source": [
    "### TorchText"
   ]
  },
  {
   "cell_type": "code",
   "execution_count": 11,
   "metadata": {},
   "outputs": [],
   "source": [
    "classes={\n",
    "    'neg' : 0,\n",
    "    'pos' : 1\n",
    "}\n",
    "\n",
    "TEXT = Field(include_lengths=True, batch_first=True, \n",
    "             tokenize=tokenizer,\n",
    "             eos_token='<eos>',\n",
    "             lower=True,\n",
    "             stop_words=stop_words)\n",
    "\n",
    "LABEL = LabelField(dtype=tt.int64, use_vocab=True, preprocessing=lambda x: classes[x])\n",
    "\n",
    "\n",
    "train = TabularDataset('train.csv', format='csv', \n",
    "                         fields=[(None, None), (None, None), ('review', TEXT), ('label', LABEL), (None, None)], \n",
    "                         skip_header=True)\n",
    "\n",
    "test = TabularDataset('test.csv', format='csv', \n",
    "                         fields=[(None, None), (None, None), ('review', TEXT), ('label', LABEL), (None, None)], \n",
    "                         skip_header=True)"
   ]
  },
  {
   "cell_type": "code",
   "execution_count": 12,
   "metadata": {},
   "outputs": [],
   "source": [
    "TEXT.build_vocab(train, vectors='glove.6B.100d')"
   ]
  },
  {
   "cell_type": "code",
   "execution_count": 13,
   "metadata": {},
   "outputs": [],
   "source": [
    "embed_matrix = TEXT.vocab.vectors"
   ]
  },
  {
   "cell_type": "code",
   "execution_count": 14,
   "metadata": {},
   "outputs": [],
   "source": [
    "LABEL.build_vocab(train)"
   ]
  },
  {
   "cell_type": "code",
   "execution_count": 15,
   "metadata": {},
   "outputs": [],
   "source": [
    "train, valid = train.split(0.7, stratified=True)"
   ]
  },
  {
   "cell_type": "markdown",
   "metadata": {},
   "source": [
    "___"
   ]
  },
  {
   "cell_type": "code",
   "execution_count": 16,
   "metadata": {},
   "outputs": [],
   "source": [
    "class MyModel(nn.Module):\n",
    "    \n",
    "    def __init__(self, vocab_size, embed_size, embed_matrix, hidden_size, kernels, freeze_value):\n",
    "        super(MyModel, self).__init__()\n",
    "        \n",
    "        if embed_matrix is None:\n",
    "            print('3rd task: train embeddings yourself with random initialization.')\n",
    "            self.embedding = nn.Embedding(vocab_size, embed_size)\n",
    "        \n",
    "        else:\n",
    "            self.embedding = nn.Embedding.from_pretrained(embed_matrix, freeze=freeze_value)\n",
    "            \n",
    "            if freeze_value:\n",
    "                print('1st task: use pretrained word embeddings with frozen weights.')\n",
    "            else:\n",
    "                print('2nd task: train embeddings yourself, initializing from pretrained weights.')\n",
    "        \n",
    "        self.convs = nn.ModuleList([nn.Conv1d(embed_size, hidden_size, k, padding=5) for k in kernels])\n",
    "        self.fc = nn.Linear(hidden_size * len(kernels), 3)\n",
    "        \n",
    "    def forward(self, x):\n",
    "        \n",
    "        x = self.embedding(x)\n",
    "        x = x.transpose(1,2)\n",
    "        \n",
    "        concatenated = []\n",
    "        for conv in self.convs:\n",
    "            z = conv(x)\n",
    "            z = F.avg_pool1d(z, kernel_size=z.size(2))\n",
    "            z = z.squeeze(2)\n",
    "            concatenated.append(z)\n",
    "            \n",
    "        x = tt.cat(concatenated, 1)\n",
    "        x = self.fc(x)\n",
    "        \n",
    "        return x"
   ]
  },
  {
   "cell_type": "code",
   "execution_count": 17,
   "metadata": {},
   "outputs": [],
   "source": [
    "def train_nn(model, epochs, train_iterator, valid_iterator, optimizer, scheduler, criterion):\n",
    "    min_loss = np.inf\n",
    "    no_improvement = 0\n",
    "    \n",
    "    lr = []\n",
    "    all_train_loss = []\n",
    "    all_val_loss = []\n",
    "    \n",
    "    for epoch in range(epochs):\n",
    "        val_loss_history = []\n",
    "        train_loss_history = []\n",
    "        \n",
    "        for batch in train_iterator:\n",
    "            optimizer.zero_grad()\n",
    "            \n",
    "            pred = model.forward(batch.review[0])\n",
    "            loss = criterion(pred, batch.label)\n",
    "            tr_loss = loss.item()\n",
    "            train_loss_history.append(tr_loss)\n",
    "        \n",
    "            loss.backward()\n",
    "            optimizer.step()\n",
    "                \n",
    "        train_mean = np.mean(train_loss_history)\n",
    "        all_train_loss.append(train_mean)\n",
    "        \n",
    "        with tt.no_grad():\n",
    "            for val_batch in valid_iterator:\n",
    "                val_pred = model.forward(val_batch.review[0])\n",
    "                val_loss_crit = criterion(val_pred, val_batch.label)\n",
    "                valid_loss = val_loss_crit.item()\n",
    "                val_loss_history.append(valid_loss)\n",
    "        \n",
    "            val_loss = np.mean(val_loss_history)\n",
    "            all_val_loss.append(val_loss)\n",
    "        \n",
    "        if val_loss < min_loss:\n",
    "            min_loss = val_loss\n",
    "            no_improvement = 0\n",
    "\n",
    "        elif no_improvement < scheduler.patience:\n",
    "            no_improvement += 1\n",
    "\n",
    "        else:\n",
    "            print('Early stopping (%dth epoch)' % (epoch + 1))\n",
    "            break\n",
    "        \n",
    "        lr.append(optimizer.param_groups[0]['lr'])\n",
    "        scheduler.step(val_loss)\n",
    "    \n",
    "        print('Epoch %d, Train Loss: %.4f, Validation Loss: %.4f' % (epoch + 1, train_mean, val_loss))\n",
    "        \n",
    "    return lr, all_train_loss, all_val_loss"
   ]
  },
  {
   "cell_type": "code",
   "execution_count": 18,
   "metadata": {},
   "outputs": [],
   "source": [
    "def eval_test(model, test_iterator, criterion):\n",
    "    epoch_loss = 0\n",
    "\n",
    "    with tt.no_grad():\n",
    "        for batch in test_iterator:\n",
    "            pred = model.forward(batch.review[0])\n",
    "            loss = criterion(pred, batch.label)\n",
    "            epoch_loss += loss.data.item()\n",
    "\n",
    "    return epoch_loss / len(test_iterator)"
   ]
  },
  {
   "cell_type": "markdown",
   "metadata": {},
   "source": [
    "#### Plots"
   ]
  },
  {
   "cell_type": "code",
   "execution_count": 19,
   "metadata": {},
   "outputs": [],
   "source": [
    "import matplotlib.pyplot as plt\n",
    "%matplotlib inline"
   ]
  },
  {
   "cell_type": "code",
   "execution_count": 20,
   "metadata": {},
   "outputs": [],
   "source": [
    "def plot_lr(lr):\n",
    "    plt.plot(range(len(lr)), lr)\n",
    "    plt.xlabel('Number of epoch')\n",
    "    plt.ylabel('Learning rate')\n",
    "    plt.title('Learning rate against number of epochs')"
   ]
  },
  {
   "cell_type": "code",
   "execution_count": 21,
   "metadata": {},
   "outputs": [],
   "source": [
    "def plot_losses(train_loss, val_loss):\n",
    "    plt.plot(range(len(train_loss)), train_loss, label='train loss')\n",
    "    plt.plot(range(len(val_loss)), val_loss, label='validation loss')\n",
    "    plt.xlabel('Number of epoch')\n",
    "    plt.ylabel('Loss value')\n",
    "    plt.legend()\n",
    "    plt.title('Train and Validation losses')"
   ]
  },
  {
   "cell_type": "code",
   "execution_count": 22,
   "metadata": {},
   "outputs": [],
   "source": [
    "def plot_val_curve(test_1, test_2, test_3):\n",
    "    ax = plt.figure(figsize=(14,8)).add_subplot(111)\n",
    "\n",
    "    x = 'pretrained word embeddings with frozen weights', 'from pretrained weights', 'random initialization'\n",
    "    y = test_1, test_2, test_3\n",
    "\n",
    "    plt.plot(x, y)\n",
    "\n",
    "    for i, j in zip(x, y):  \n",
    "        ax.annotate('%s' % j, xy=(i, j), textcoords='offset points')\n",
    "\n",
    "    plt.xlabel('Model type')\n",
    "    plt.ylabel('Test loss value')\n",
    "    plt.title('Validation curve')"
   ]
  },
  {
   "cell_type": "markdown",
   "metadata": {},
   "source": [
    "### Explore 3 ways, which of them has better perfomance on test set?"
   ]
  },
  {
   "cell_type": "code",
   "execution_count": 23,
   "metadata": {},
   "outputs": [],
   "source": [
    "batch_size = 256\n",
    "epochs = 15\n",
    "\n",
    "criterion = nn.CrossEntropyLoss()\n",
    "\n",
    "train_iterator, valid_iterator, test_iterator = BucketIterator.splits(\n",
    "    (train, valid, test),\n",
    "    batch_sizes=(batch_size, batch_size, batch_size),\n",
    "    shuffle=True,\n",
    "    sort_key=lambda x: len(x.review)\n",
    ")"
   ]
  },
  {
   "cell_type": "markdown",
   "metadata": {},
   "source": [
    "**1. Using pretrained word embeddings with frozen weights.**"
   ]
  },
  {
   "cell_type": "code",
   "execution_count": 24,
   "metadata": {},
   "outputs": [
    {
     "name": "stdout",
     "output_type": "stream",
     "text": [
      "1st task: use pretrained word embeddings with frozen weights.\n"
     ]
    }
   ],
   "source": [
    "tt.cuda.empty_cache()\n",
    "\n",
    "model_pretrained_frozen = MyModel(len(TEXT.vocab.itos),\n",
    "                                  embed_size=100,\n",
    "                                  embed_matrix=embed_matrix,\n",
    "                                  hidden_size=128,\n",
    "                                  kernels=[2,3,4,5],\n",
    "                                  freeze_value=True\n",
    "                                 )\n",
    "\n",
    "optimizer_pretrained_frozen = optim.Adam(model_pretrained_frozen.parameters())\n",
    "scheduler_pretrained_frozen = optim.lr_scheduler.ReduceLROnPlateau(\n",
    "    optimizer_pretrained_frozen, \n",
    "    patience=5, \n",
    "    verbose=True, \n",
    "    cooldown=5\n",
    ")"
   ]
  },
  {
   "cell_type": "code",
   "execution_count": 25,
   "metadata": {},
   "outputs": [
    {
     "name": "stdout",
     "output_type": "stream",
     "text": [
      "Epoch 1, Train Loss: 0.6769, Validation Loss: 0.7112\n",
      "Epoch 2, Train Loss: 0.5481, Validation Loss: 0.7360\n",
      "Epoch 3, Train Loss: 0.5127, Validation Loss: 0.7831\n",
      "Epoch 4, Train Loss: 0.4935, Validation Loss: 0.8532\n",
      "Epoch 5, Train Loss: 0.4885, Validation Loss: 0.8362\n",
      "Epoch 6, Train Loss: 0.4833, Validation Loss: 0.8553\n",
      "Early stopping (7th epoch)\n",
      "CPU times: user 24min 59s, sys: 5min 31s, total: 30min 30s\n",
      "Wall time: 7min 27s\n"
     ]
    }
   ],
   "source": [
    "%%time\n",
    "\n",
    "lr_1, all_train_loss_1, all_val_loss_1 = train_nn(\n",
    "    model_pretrained_frozen, \n",
    "    epochs, \n",
    "    train_iterator, \n",
    "    valid_iterator, \n",
    "    optimizer_pretrained_frozen, \n",
    "    scheduler_pretrained_frozen, \n",
    "    criterion\n",
    ")"
   ]
  },
  {
   "cell_type": "code",
   "execution_count": 26,
   "metadata": {},
   "outputs": [
    {
     "data": {
      "image/png": "[encoded data removed]",
      "text/plain": [
       "<Figure size 432x288 with 1 Axes>"
      ]
     },
     "metadata": {
      "needs_background": "light"
     },
     "output_type": "display_data"
    }
   ],
   "source": [
    "plot_lr(lr_1)"
   ]
  },
  {
   "cell_type": "markdown",
   "metadata": {},
   "source": [
    "С `learning rate` во всех случаях получилось так (возможно, где-то есть ошибка :( я много раз просматривала код, чтобы ее найти (+ меняла параметры, `patience`, например), но все равно могла не заметить)"
   ]
  },
  {
   "cell_type": "code",
   "execution_count": 27,
   "metadata": {},
   "outputs": [
    {
     "data": {
      "image/png": "[encoded data removed]",
      "text/plain": [
       "<Figure size 432x288 with 1 Axes>"
      ]
     },
     "metadata": {
      "needs_background": "light"
     },
     "output_type": "display_data"
    }
   ],
   "source": [
    "plot_losses(all_train_loss_1, all_val_loss_1)"
   ]
  },
  {
   "cell_type": "code",
   "execution_count": 28,
   "metadata": {},
   "outputs": [],
   "source": [
    "test_1 = eval_test(model_pretrained_frozen, test_iterator, criterion)"
   ]
  },
  {
   "cell_type": "markdown",
   "metadata": {},
   "source": [
    "**2. Train embeddings yourself, initializing from pretrained weights.**"
   ]
  },
  {
   "cell_type": "code",
   "execution_count": 32,
   "metadata": {},
   "outputs": [
    {
     "name": "stdout",
     "output_type": "stream",
     "text": [
      "2nd task: train embeddings yourself, initializing from pretrained weights.\n"
     ]
    }
   ],
   "source": [
    "tt.cuda.empty_cache()\n",
    "\n",
    "model_pretrained = MyModel(len(TEXT.vocab.itos),\n",
    "                           embed_size=100,\n",
    "                           embed_matrix=embed_matrix,\n",
    "                           hidden_size=128,\n",
    "                           kernels=[2,3,4,5],\n",
    "                           freeze_value=False\n",
    "                          )\n",
    "\n",
    "optimizer_pretrained = optim.Adam(model_pretrained.parameters())\n",
    "scheduler_pretrained = optim.lr_scheduler.ReduceLROnPlateau(\n",
    "    optimizer_pretrained, \n",
    "    patience=5, \n",
    "    verbose=True, \n",
    "    cooldown=5\n",
    ")"
   ]
  },
  {
   "cell_type": "code",
   "execution_count": 33,
   "metadata": {},
   "outputs": [
    {
     "name": "stdout",
     "output_type": "stream",
     "text": [
      "Epoch 1, Train Loss: 0.5474, Validation Loss: 0.5105\n",
      "Epoch 2, Train Loss: 0.2578, Validation Loss: 0.7035\n",
      "Epoch 3, Train Loss: 0.1827, Validation Loss: 0.8146\n",
      "Epoch 4, Train Loss: 0.1376, Validation Loss: 0.9070\n",
      "Epoch 5, Train Loss: 0.1082, Validation Loss: 1.0138\n",
      "Epoch 6, Train Loss: 0.0832, Validation Loss: 1.1111\n",
      "Early stopping (7th epoch)\n",
      "CPU times: user 39min 27s, sys: 9min 12s, total: 48min 40s\n",
      "Wall time: 13min 23s\n"
     ]
    }
   ],
   "source": [
    "%%time\n",
    "\n",
    "lr_2, all_train_loss_2, all_val_loss_2 = train_nn(\n",
    "    model_pretrained, \n",
    "    epochs, \n",
    "    train_iterator, \n",
    "    valid_iterator, \n",
    "    optimizer_pretrained, \n",
    "    scheduler_pretrained, \n",
    "    criterion\n",
    ")"
   ]
  },
  {
   "cell_type": "code",
   "execution_count": 35,
   "metadata": {},
   "outputs": [
    {
     "data": {
      "image/png": "[encoded data removed]",
      "text/plain": [
       "<Figure size 432x288 with 1 Axes>"
      ]
     },
     "metadata": {
      "needs_background": "light"
     },
     "output_type": "display_data"
    }
   ],
   "source": [
    "plot_lr(lr_2)"
   ]
  },
  {
   "cell_type": "code",
   "execution_count": 36,
   "metadata": {},
   "outputs": [
    {
     "data": {
      "image/png": "[encoded data removed]",
      "text/plain": [
       "<Figure size 432x288 with 1 Axes>"
      ]
     },
     "metadata": {
      "needs_background": "light"
     },
     "output_type": "display_data"
    }
   ],
   "source": [
    "plot_losses(all_train_loss_2, all_val_loss_2)"
   ]
  },
  {
   "cell_type": "code",
   "execution_count": 37,
   "metadata": {},
   "outputs": [],
   "source": [
    "test_2 = eval_test(model_pretrained, test_iterator, criterion)"
   ]
  },
  {
   "cell_type": "markdown",
   "metadata": {},
   "source": [
    "**3. Train embeddings yourself with random initialization.**"
   ]
  },
  {
   "cell_type": "code",
   "execution_count": 44,
   "metadata": {},
   "outputs": [],
   "source": [
    "tt.cuda.empty_cache()"
   ]
  },
  {
   "cell_type": "code",
   "execution_count": 45,
   "metadata": {},
   "outputs": [
    {
     "name": "stdout",
     "output_type": "stream",
     "text": [
      "3rd task: train embeddings yourself with random initialization.\n"
     ]
    }
   ],
   "source": [
    "model_self = MyModel(len(TEXT.vocab.itos),\n",
    "                           embed_size=100,\n",
    "                           embed_matrix=None,\n",
    "                           hidden_size=128,\n",
    "                           kernels=[2,3,4,5],\n",
    "                           freeze_value=None\n",
    "                          )\n",
    "\n",
    "optimizer_self = optim.Adam(model_self.parameters())\n",
    "scheduler_self = optim.lr_scheduler.ReduceLROnPlateau(optimizer_self, patience=5, verbose=True, cooldown=5)"
   ]
  },
  {
   "cell_type": "code",
   "execution_count": 46,
   "metadata": {},
   "outputs": [
    {
     "name": "stdout",
     "output_type": "stream",
     "text": [
      "Epoch 1, Train Loss: 0.7167, Validation Loss: 0.8106\n",
      "Epoch 2, Train Loss: 0.6861, Validation Loss: 0.7314\n",
      "Epoch 3, Train Loss: 0.6491, Validation Loss: 0.6636\n",
      "Epoch 4, Train Loss: 0.5433, Validation Loss: 0.7569\n",
      "Epoch 5, Train Loss: 0.4528, Validation Loss: 0.8192\n",
      "Epoch 6, Train Loss: 0.3636, Validation Loss: 0.8830\n",
      "Epoch 7, Train Loss: 0.3409, Validation Loss: 0.8745\n",
      "Epoch 8, Train Loss: 0.2722, Validation Loss: 0.9074\n",
      "Early stopping (9th epoch)\n",
      "CPU times: user 50min 40s, sys: 11min 45s, total: 1h 2min 26s\n",
      "Wall time: 16min 58s\n"
     ]
    }
   ],
   "source": [
    "%%time\n",
    "\n",
    "lr_3, all_train_loss_3, all_val_loss_3 = train_nn(\n",
    "    model_self, \n",
    "    epochs, \n",
    "    train_iterator, \n",
    "    valid_iterator, \n",
    "    optimizer_self, \n",
    "    scheduler_self, \n",
    "    criterion\n",
    ")"
   ]
  },
  {
   "cell_type": "code",
   "execution_count": 47,
   "metadata": {},
   "outputs": [
    {
     "data": {
      "image/png": "[encoded data removed]",
      "text/plain": [
       "<Figure size 432x288 with 1 Axes>"
      ]
     },
     "metadata": {
      "needs_background": "light"
     },
     "output_type": "display_data"
    }
   ],
   "source": [
    "plot_lr(lr_3)"
   ]
  },
  {
   "cell_type": "code",
   "execution_count": 48,
   "metadata": {},
   "outputs": [
    {
     "data": {
      "image/png": "[encoded data removed]",
      "text/plain": [
       "<Figure size 432x288 with 1 Axes>"
      ]
     },
     "metadata": {
      "needs_background": "light"
     },
     "output_type": "display_data"
    }
   ],
   "source": [
    "plot_losses(all_train_loss_3, all_val_loss_3)"
   ]
  },
  {
   "cell_type": "code",
   "execution_count": 49,
   "metadata": {},
   "outputs": [],
   "source": [
    "test_3 = eval_test(model_self, test_iterator, criterion)"
   ]
  },
  {
   "cell_type": "code",
   "execution_count": 50,
   "metadata": {},
   "outputs": [
    {
     "data": {
      "image/png": "[encoded data removed]",
      "text/plain": [
       "<Figure size 1008x576 with 1 Axes>"
      ]
     },
     "metadata": {
      "needs_background": "light"
     },
     "output_type": "display_data"
    }
   ],
   "source": [
    "plot_val_curve(test_1, test_2, test_3)"
   ]
  },
  {
   "cell_type": "code",
   "execution_count": null,
   "metadata": {},
   "outputs": [],
   "source": []
  }
 ],
 "metadata": {
  "kernelspec": {
   "display_name": "Python 3",
   "language": "python",
   "name": "python3"
  }
 },
 "nbformat": 4,
 "nbformat_minor": 2
}
