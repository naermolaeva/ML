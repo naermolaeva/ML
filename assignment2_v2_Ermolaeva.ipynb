{
 "cells": [
  {
   "cell_type": "markdown",
   "metadata": {},
   "source": [
    "## HW2 (alternative)"
   ]
  },
  {
   "cell_type": "markdown",
   "metadata": {},
   "source": [
    "Используя определение, оценить **сложность по радемахеру для логистической регресии** на `breast cancer dataset` из `scikit-learn` (бинарная классификация). Подробнее в материалах лекции и на вики.\n",
    "\n",
    "Построить **график зависимости сложности по радемахеру от коэф `L2` регуляризации для `alpha=np.logspace(-2,2,5)`**. \n",
    "\n",
    "Для каждой точки выполнить **100 экспериментов**, на графике отобразить **стандартное отклонение оценки в каждой точке**.\n",
    "\n",
    "**Не забудьте  предварительно применить к признакам `standard scaling`**.\n",
    "\n",
    "В коде добавлены доп. пояснения, которые давал Денис Владимирович."
   ]
  },
  {
   "cell_type": "markdown",
   "metadata": {},
   "source": [
    "### [The 3rd seminar](https://github.com/thedenaas/hse_seminars_2018/blob/master/seminar_3/ml_fundamentals.ipynb):"
   ]
  },
  {
   "cell_type": "markdown",
   "metadata": {},
   "source": [
    "**Rademacher complexity**: Suppose now that the labels $y_i$ are chosen at random without regard to the $x_i$. In other words, suppose we replace each $y_i$ by a random variable $\\sigma_i$ that is −1 or +1 with equal probability, independent of everything else. Thus, the $\\sigma_i$ represent labels that are pure noise. We can measure how well the space $H$ can fit this noise in expectation by\n",
    "$E_{sigma} [\\max_{h \\in H} \\frac 1 m \\sum _{i=1}^m \\sigma_i h(x_i)]$, which is called Rademacher complexity."
   ]
  },
  {
   "cell_type": "code",
   "execution_count": 1,
   "metadata": {},
   "outputs": [],
   "source": [
    "import random\n",
    "import numpy as np\n",
    "\n",
    "from sklearn.datasets import load_breast_cancer\n",
    "from sklearn.linear_model import LogisticRegression\n",
    "from sklearn.model_selection import train_test_split\n",
    "from sklearn.preprocessing import StandardScaler\n",
    "\n",
    "import matplotlib.pyplot as plt\n",
    "%matplotlib inline"
   ]
  },
  {
   "cell_type": "code",
   "execution_count": 2,
   "metadata": {},
   "outputs": [],
   "source": [
    "import warnings\n",
    "warnings.filterwarnings('ignore')"
   ]
  },
  {
   "cell_type": "code",
   "execution_count": 3,
   "metadata": {},
   "outputs": [],
   "source": [
    "data = load_breast_cancer()"
   ]
  },
  {
   "cell_type": "code",
   "execution_count": 4,
   "metadata": {},
   "outputs": [
    {
     "data": {
      "text/plain": [
       "dict_keys(['data', 'target', 'target_names', 'DESCR', 'feature_names', 'filename'])"
      ]
     },
     "execution_count": 4,
     "metadata": {},
     "output_type": "execute_result"
    }
   ],
   "source": [
    "data.keys()"
   ]
  },
  {
   "cell_type": "markdown",
   "metadata": {},
   "source": [
    "Не забудьте  предварительно применить к признакам `standard scaling`."
   ]
  },
  {
   "cell_type": "code",
   "execution_count": 5,
   "metadata": {},
   "outputs": [],
   "source": [
    "def train_test(data):\n",
    "    scaler = StandardScaler()\n",
    "    X_data = scaler.fit_transform(data.data)\n",
    "    \n",
    "    X_train, X_test, y_train, y_test = train_test_split(X_data,\n",
    "                                                        data.target,\n",
    "                                                        test_size=0.33,\n",
    "                                                        random_state=random.choice(range(500))\n",
    "                                                       )\n",
    "    \n",
    "    return X_train, X_test, y_train, y_test"
   ]
  },
  {
   "cell_type": "markdown",
   "metadata": {},
   "source": [
    "Эксперимент выглядит следующим образом. Берем выборку. **Каждому объекту случайно назначаем метку `sigma` из `{-1, 1}`**. Учим лог рег с заданным коэф регуляризации. На обучающей выборке считаем **среднее значение** `margin`. `margin = sigma * h(x)`."
   ]
  },
  {
   "cell_type": "code",
   "execution_count": 6,
   "metadata": {},
   "outputs": [],
   "source": [
    "def log_reg(alpha, X, y):\n",
    "    random.seed(random.choice(range(500)))\n",
    "    \n",
    "    sigma = np.random.choice([-1,1], size=y.shape[0])\n",
    "    clf = LogisticRegression(penalty='l2', C=alpha).fit(X, sigma)\n",
    "    margin = sigma * clf.decision_function(X)\n",
    "    \n",
    "    return np.average(margin)"
   ]
  },
  {
   "cell_type": "code",
   "execution_count": 7,
   "metadata": {},
   "outputs": [],
   "source": [
    "alphas = np.logspace(-2,2,5)"
   ]
  },
  {
   "cell_type": "code",
   "execution_count": 8,
   "metadata": {},
   "outputs": [],
   "source": [
    "means = []\n",
    "stds = []\n",
    "\n",
    "for alpha in alphas:\n",
    "    rademacher_complexity = []\n",
    "    \n",
    "    for experiment in range(100): \n",
    "        X_train, X_test, y_train, y_test = train_test(data)\n",
    "        margin = log_reg(alpha, X_train, y_train)\n",
    "        rademacher_complexity.append(margin)\n",
    "    \n",
    "    means.append(np.mean(rademacher_complexity))\n",
    "    stds.append(np.std(rademacher_complexity))"
   ]
  },
  {
   "cell_type": "code",
   "execution_count": 9,
   "metadata": {},
   "outputs": [
    {
     "data": {
      "image/png": "[encoded data removed]",
      "text/plain": [
       "<Figure size 432x288 with 1 Axes>"
      ]
     },
     "metadata": {
      "needs_background": "light"
     },
     "output_type": "display_data"
    }
   ],
   "source": [
    "plt.errorbar(np.arange(len(alphas)), means, stds, fmt='-o')\n",
    "plt.xticks(np.arange(len(alphas)), alphas)\n",
    "plt.title('Rademacher Complexity')\n",
    "plt.xlabel('alpha value')\n",
    "plt.ylabel('Complexity')\n",
    "plt.show()"
   ]
  },
  {
   "cell_type": "markdown",
   "metadata": {},
   "source": [
    "На графике можем увидеть линейную зависимость между коэффициентом `L2` регуляризации и сложностью по Радемахеру. Таким образом, мы получаем, что с ростом значения параметра `C` (`alpha`) происходит рост сложности по Радемахеру."
   ]
  },
  {
   "cell_type": "code",
   "execution_count": null,
   "metadata": {},
   "outputs": [],
   "source": []
  }
 ],
 "metadata": {
  "kernelspec": {
   "display_name": "Python 3",
   "language": "python",
   "name": "python3"
  },
  "language_info": {
   "codemirror_mode": {
    "name": "ipython",
    "version": 3
   },
   "file_extension": ".py",
   "mimetype": "text/x-python",
   "name": "python",
   "nbconvert_exporter": "python",
   "pygments_lexer": "ipython3",
   "version": "3.7.2"
  }
 },
 "nbformat": 4,
 "nbformat_minor": 2
}
