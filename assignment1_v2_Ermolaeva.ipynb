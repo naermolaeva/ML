{
 "cells": [
  {
   "cell_type": "markdown",
   "metadata": {},
   "source": [
    "## HW1 (alternative)"
   ]
  },
  {
   "cell_type": "markdown",
   "metadata": {},
   "source": [
    "Показать на эксперименте, что верхняя оценка на вероятность коллизии композиционного хеша для строк выполняется $O(\\frac 1 m + \\frac L p)$. Подробнее в материалах лекции.\n",
    "\n",
    "Построить **графики зависимости FPR от длинны строк L и простого модуля p**.\n",
    "\n",
    "Эксперименты провести для `L = np.linspace(10, 100, 11)` и 10 простых чисел p из интервала `(100, 1000)`.\n",
    "**Для каждой точки выполнить 10 экспериментов**, на графике отобразить стандартное отклонение оценки в каждой точке.\n",
    "\n",
    "В коде добавлены доп. пояснения, которые давал Денис Владимирович."
   ]
  },
  {
   "cell_type": "markdown",
   "metadata": {},
   "source": [
    "### [The 1st seminar](https://github.com/thedenaas/hse_seminars_2018/blob/master/seminar_1/algorithms.ipynb):"
   ]
  },
  {
   "cell_type": "markdown",
   "metadata": {},
   "source": [
    "# Hashing functions\n",
    "\n",
    "## Universal Family of hash functions\n",
    "\n",
    "Family of hash functions $H= \\{\\; h: X \\rightarrow [0, m-1] \\; \\}$ is called universal family if\n",
    "\n",
    "$Pr[\\;h(x) = h(y) | x \\neq y\\;] \\leq \\frac 1 m $ for some $h$ taken random from $H$\n",
    "\n",
    "## Hashing intergers\n",
    "For some prime number $p$ and $ a \\in [1, p-1], \\; b \\in [0, p-1] $\n",
    "\n",
    "$ H_p = \\{ \\; h_p^{a,b}(x) = (ax+b) \\; (mod \\; p) \\; \\}$,"
   ]
  },
  {
   "cell_type": "code",
   "execution_count": 1,
   "metadata": {},
   "outputs": [],
   "source": [
    "def hash_int(x, a=112, b=22, p=997):\n",
    "    return (a*x + b) % p"
   ]
  },
  {
   "cell_type": "markdown",
   "metadata": {},
   "source": [
    "## Hashing strings\n",
    "For some big prime number $p$ and string S and $x \\in [1, p-1]$\n",
    "\n",
    "$P_p = \\{ \\; h_p^x(S) = \\sum^{|S|-1}_{j=0} s_j \\:  x^j \\; (mod \\;  p) \\; \\}$"
   ]
  },
  {
   "cell_type": "code",
   "execution_count": 2,
   "metadata": {},
   "outputs": [],
   "source": [
    "def poly_hash(s, p=997, x=31):\n",
    "    h = 0\n",
    "    for j in range(len(s)-1, -1, -1):\n",
    "        h = (h * x + ord(s[j]) + p) % p\n",
    "    return h"
   ]
  },
  {
   "cell_type": "markdown",
   "metadata": {},
   "source": [
    "___"
   ]
  },
  {
   "cell_type": "code",
   "execution_count": 3,
   "metadata": {},
   "outputs": [],
   "source": [
    "import numpy as np\n",
    "import random\n",
    "import string\n",
    "import matplotlib.pyplot as plt\n",
    "\n",
    "%matplotlib inline"
   ]
  },
  {
   "cell_type": "markdown",
   "metadata": {},
   "source": [
    "Эксперименты провести для `L = np.linspace(10, 100, 11)`"
   ]
  },
  {
   "cell_type": "code",
   "execution_count": 4,
   "metadata": {},
   "outputs": [],
   "source": [
    "L = np.linspace(10, 100, 11)"
   ]
  },
  {
   "cell_type": "code",
   "execution_count": 5,
   "metadata": {},
   "outputs": [
    {
     "data": {
      "text/plain": [
       "array([ 10.,  19.,  28.,  37.,  46.,  55.,  64.,  73.,  82.,  91., 100.])"
      ]
     },
     "execution_count": 5,
     "metadata": {},
     "output_type": "execute_result"
    }
   ],
   "source": [
    "L"
   ]
  },
  {
   "cell_type": "markdown",
   "metadata": {},
   "source": [
    "и 10 [простых чисел](https://www.geeksforgeeks.org/python-program-to-print-all-prime-numbers-in-an-interval/) `p` из интервала `(100, 1000)`"
   ]
  },
  {
   "cell_type": "code",
   "execution_count": 6,
   "metadata": {},
   "outputs": [],
   "source": [
    "def primes(lower=100, upper=1000):\n",
    "    primes = []\n",
    "    for val in range(lower, upper + 1): \n",
    "        if val > 1: \n",
    "            for n in range(2, val): \n",
    "                if (val % n) == 0: \n",
    "                    break\n",
    "            else: \n",
    "                primes.append(val)\n",
    "\n",
    "    return random.sample(primes, 10)"
   ]
  },
  {
   "cell_type": "code",
   "execution_count": 13,
   "metadata": {},
   "outputs": [],
   "source": [
    "p_10 = sorted(primes())"
   ]
  },
  {
   "cell_type": "code",
   "execution_count": 14,
   "metadata": {},
   "outputs": [
    {
     "data": {
      "text/plain": [
       "[199, 223, 569, 593, 683, 827, 857, 859, 877, 953]"
      ]
     },
     "execution_count": 14,
     "metadata": {},
     "output_type": "execute_result"
    }
   ],
   "source": [
    "p_10"
   ]
  },
  {
   "cell_type": "markdown",
   "metadata": {},
   "source": [
    "Каждый эксперимент состоит из того, что ты генерируешь скажем **1000 разных строк длины L** и смотришь совпадения хешей между ними.\n",
    "**Все строки в эксперименте разные**.\n",
    "В каждом эксперименте **`seed` с которым ты генерируешь строки должен быть разным.**"
   ]
  },
  {
   "cell_type": "code",
   "execution_count": 15,
   "metadata": {},
   "outputs": [],
   "source": [
    "def random_generator(seed=42, n=1000, size=6, chars=string.ascii_uppercase):\n",
    "    random.seed(seed)\n",
    "    random_strings = []\n",
    "    \n",
    "    for i in range(n):\n",
    "        random_strings.append(''.join(random.choice(chars) for x in range(size)))\n",
    "        \n",
    "    return random_strings"
   ]
  },
  {
   "cell_type": "code",
   "execution_count": 16,
   "metadata": {},
   "outputs": [],
   "source": [
    "seeds = random.sample(range(500), 11)"
   ]
  },
  {
   "cell_type": "code",
   "execution_count": 17,
   "metadata": {},
   "outputs": [
    {
     "data": {
      "text/plain": [
       "[279, 361, 117, 125, 47, 266, 240, 412, 79, 49, 432]"
      ]
     },
     "execution_count": 17,
     "metadata": {},
     "output_type": "execute_result"
    }
   ],
   "source": [
    "seeds"
   ]
  },
  {
   "cell_type": "markdown",
   "metadata": {},
   "source": [
    "___"
   ]
  },
  {
   "cell_type": "markdown",
   "metadata": {},
   "source": [
    "Соответственно твой `FPR = # коллизий * 2 / (1000 * (1000-1))`."
   ]
  },
  {
   "cell_type": "code",
   "execution_count": 18,
   "metadata": {},
   "outputs": [],
   "source": [
    "def FPR(seed, rand_L, p, n):\n",
    "    hashes = {}\n",
    "    num_col = 0\n",
    "\n",
    "    random_strings = random_generator(seed=seed, n=n, size=rand_L, chars=string.ascii_uppercase)\n",
    "\n",
    "    for rand_s in random_strings:\n",
    "        hash = poly_hash(rand_s, p, x=31)\n",
    "\n",
    "        if hash not in hashes:\n",
    "            hashes[hash] = rand_s\n",
    "\n",
    "        else:\n",
    "            hashes[hash] = rand_s\n",
    "            num_col += 1\n",
    "                \n",
    "    return num_col * 2 / (n * (n - 1))"
   ]
  },
  {
   "cell_type": "markdown",
   "metadata": {},
   "source": [
    "Фиксируешь `p` и проводишь по 10 экспериментов для 11 разных `L`."
   ]
  },
  {
   "cell_type": "code",
   "execution_count": 24,
   "metadata": {},
   "outputs": [],
   "source": [
    "p = random.choice(p_10)"
   ]
  },
  {
   "cell_type": "code",
   "execution_count": 25,
   "metadata": {},
   "outputs": [
    {
     "name": "stdout",
     "output_type": "stream",
     "text": [
      "p = 877\n"
     ]
    }
   ],
   "source": [
    "means_fixed_p = []\n",
    "stds_fixed_p = []\n",
    "\n",
    "print('p = %d' % p)\n",
    "\n",
    "for l in L:\n",
    "    fprs = []\n",
    "    \n",
    "    for seed in seeds:\n",
    "        fpr = FPR(seed, int(l), p, 1000)\n",
    "        fprs.append(fpr)\n",
    "    \n",
    "    means_fixed_p.append(np.mean(fprs))\n",
    "    stds_fixed_p.append(np.std(fprs))"
   ]
  },
  {
   "cell_type": "code",
   "execution_count": 26,
   "metadata": {},
   "outputs": [
    {
     "data": {
      "image/png": "[encoded data removed]",
      "text/plain": [
       "<Figure size 432x288 with 1 Axes>"
      ]
     },
     "metadata": {
      "needs_background": "light"
     },
     "output_type": "display_data"
    }
   ],
   "source": [
    "plt.errorbar(L, means_fixed_p, stds_fixed_p, fmt='-o', label='mean FPR')\n",
    "plt.title('FPR: Mean and Standart Deviation, fixed prime mod, p = %d' % p)\n",
    "plt.xlabel('L value')\n",
    "plt.ylabel('FPR')\n",
    "plt.legend()\n",
    "plt.show()"
   ]
  },
  {
   "cell_type": "code",
   "execution_count": 27,
   "metadata": {},
   "outputs": [
    {
     "name": "stdout",
     "output_type": "stream",
     "text": [
      "p = 503\n"
     ]
    }
   ],
   "source": [
    "means_fixed_p = []\n",
    "stds_fixed_p = []\n",
    "\n",
    "p = 503\n",
    "print('p = %d' % p)\n",
    "\n",
    "for l in L:\n",
    "    fprs = []\n",
    "    \n",
    "    for seed in seeds:\n",
    "        fpr = FPR(seed, int(l), p, 1000)\n",
    "        fprs.append(fpr)\n",
    "    \n",
    "    means_fixed_p.append(np.mean(fprs))\n",
    "    stds_fixed_p.append(np.std(fprs))"
   ]
  },
  {
   "cell_type": "code",
   "execution_count": 28,
   "metadata": {},
   "outputs": [
    {
     "data": {
      "image/png": "[encoded data removed]",
      "text/plain": [
       "<Figure size 432x288 with 1 Axes>"
      ]
     },
     "metadata": {
      "needs_background": "light"
     },
     "output_type": "display_data"
    }
   ],
   "source": [
    "plt.errorbar(L, means_fixed_p, stds_fixed_p, fmt='-o', label='mean FPR')\n",
    "plt.title('FPR: Mean and Standart Deviation, fixed prime mod, p = %d' % p)\n",
    "plt.xlabel('L value')\n",
    "plt.ylabel('FPR')\n",
    "plt.legend()\n",
    "plt.show()"
   ]
  },
  {
   "cell_type": "markdown",
   "metadata": {},
   "source": [
    "Ожидался рост коллизий при возрастании длины строк ($O(\\frac 1 m + \\frac L p)$), однако мы не можем с точностью сказать этого, исходя из получившегося графика, посколько функция не монотонна. Если рассматривать отдельные части графика, то мы действительно получаем рост коллизий с увеличением значения параметра `L` (и, вероятнее всего, не быстрее линейного)."
   ]
  },
  {
   "cell_type": "markdown",
   "metadata": {},
   "source": [
    "Потом фиксируешь `L` и проводишь по 10 экспериментов для 10 разных `p` из указанного интервала."
   ]
  },
  {
   "cell_type": "code",
   "execution_count": 29,
   "metadata": {},
   "outputs": [],
   "source": [
    "rand_L = int(random.choice(L))"
   ]
  },
  {
   "cell_type": "code",
   "execution_count": 30,
   "metadata": {},
   "outputs": [
    {
     "name": "stdout",
     "output_type": "stream",
     "text": [
      "L = 82\n"
     ]
    }
   ],
   "source": [
    "means_fixed_L = []\n",
    "stds_fixed_L = []\n",
    "\n",
    "print('L = %d' % rand_L)\n",
    "\n",
    "for p in p_10:\n",
    "    rand_L = rand_L\n",
    "    fprs = []\n",
    "    \n",
    "    for seed in seeds[:-1]:\n",
    "        fpr = FPR(seed, rand_L, p, 1000)\n",
    "        fprs.append(fpr)\n",
    "    \n",
    "    means_fixed_L.append(np.mean(fprs))\n",
    "    stds_fixed_L.append(np.std(fprs))"
   ]
  },
  {
   "cell_type": "code",
   "execution_count": 31,
   "metadata": {},
   "outputs": [
    {
     "data": {
      "image/png": "[encoded data removed]",
      "text/plain": [
       "<Figure size 432x288 with 1 Axes>"
      ]
     },
     "metadata": {
      "needs_background": "light"
     },
     "output_type": "display_data"
    }
   ],
   "source": [
    "plt.errorbar(p_10, means_fixed_L, stds_fixed_L, fmt='-o', label='mean FPR')\n",
    "plt.title('FPR: Mean and Standart Deviation, fixed string length, L = %d' % rand_L)\n",
    "plt.xlabel('p value')\n",
    "plt.ylabel('FPR')\n",
    "plt.legend()\n",
    "plt.show()"
   ]
  },
  {
   "cell_type": "markdown",
   "metadata": {},
   "source": [
    "Мы действительно получаем уменьшение коллизий при возрастании `p` ($O(\\frac 1 m + \\frac L p)$) по гиперболе."
   ]
  },
  {
   "cell_type": "code",
   "execution_count": null,
   "metadata": {},
   "outputs": [],
   "source": []
  }
 ],
 "metadata": {
  "kernelspec": {
   "display_name": "Python 3",
   "language": "python",
   "name": "python3"
  },
  "language_info": {
   "codemirror_mode": {
    "name": "ipython",
    "version": 3
   },
   "file_extension": ".py",
   "mimetype": "text/x-python",
   "name": "python",
   "nbconvert_exporter": "python",
   "pygments_lexer": "ipython3",
   "version": "3.7.2"
  }
 },
 "nbformat": 4,
 "nbformat_minor": 2
}
